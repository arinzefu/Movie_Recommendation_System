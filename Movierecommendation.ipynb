{
 "cells": [
  {
   "cell_type": "markdown",
   "source": [
    "# Import Libraries"
   ],
   "metadata": {
    "collapsed": false
   }
  },
  {
   "cell_type": "code",
   "execution_count": 390,
   "metadata": {
    "collapsed": true
   },
   "outputs": [],
   "source": [
    "import numpy\n",
    "import matplotlib.pyplot as plt\n",
    "import pandas as pd\n",
    "import tensorflow as tf\n",
    "from sklearn.model_selection import train_test_split"
   ]
  },
  {
   "cell_type": "markdown",
   "source": [
    "# Load the movies.csv file"
   ],
   "metadata": {
    "collapsed": false
   }
  },
  {
   "cell_type": "code",
   "execution_count": 391,
   "outputs": [],
   "source": [
    "movies = pd.read_csv('movies.csv')"
   ],
   "metadata": {
    "collapsed": false
   }
  },
  {
   "cell_type": "code",
   "execution_count": 392,
   "outputs": [
    {
     "data": {
      "text/plain": "   movieId                               title  \\\n0        1                    Toy Story (1995)   \n1        2                      Jumanji (1995)   \n2        3             Grumpier Old Men (1995)   \n3        4            Waiting to Exhale (1995)   \n4        5  Father of the Bride Part II (1995)   \n\n                                        genres  \n0  Adventure|Animation|Children|Comedy|Fantasy  \n1                   Adventure|Children|Fantasy  \n2                               Comedy|Romance  \n3                         Comedy|Drama|Romance  \n4                                       Comedy  ",
      "text/html": "<div>\n<style scoped>\n    .dataframe tbody tr th:only-of-type {\n        vertical-align: middle;\n    }\n\n    .dataframe tbody tr th {\n        vertical-align: top;\n    }\n\n    .dataframe thead th {\n        text-align: right;\n    }\n</style>\n<table border=\"1\" class=\"dataframe\">\n  <thead>\n    <tr style=\"text-align: right;\">\n      <th></th>\n      <th>movieId</th>\n      <th>title</th>\n      <th>genres</th>\n    </tr>\n  </thead>\n  <tbody>\n    <tr>\n      <th>0</th>\n      <td>1</td>\n      <td>Toy Story (1995)</td>\n      <td>Adventure|Animation|Children|Comedy|Fantasy</td>\n    </tr>\n    <tr>\n      <th>1</th>\n      <td>2</td>\n      <td>Jumanji (1995)</td>\n      <td>Adventure|Children|Fantasy</td>\n    </tr>\n    <tr>\n      <th>2</th>\n      <td>3</td>\n      <td>Grumpier Old Men (1995)</td>\n      <td>Comedy|Romance</td>\n    </tr>\n    <tr>\n      <th>3</th>\n      <td>4</td>\n      <td>Waiting to Exhale (1995)</td>\n      <td>Comedy|Drama|Romance</td>\n    </tr>\n    <tr>\n      <th>4</th>\n      <td>5</td>\n      <td>Father of the Bride Part II (1995)</td>\n      <td>Comedy</td>\n    </tr>\n  </tbody>\n</table>\n</div>"
     },
     "execution_count": 392,
     "metadata": {},
     "output_type": "execute_result"
    }
   ],
   "source": [
    "movies.head()"
   ],
   "metadata": {
    "collapsed": false
   }
  },
  {
   "cell_type": "code",
   "execution_count": 393,
   "outputs": [
    {
     "data": {
      "text/plain": "(58098, 3)"
     },
     "execution_count": 393,
     "metadata": {},
     "output_type": "execute_result"
    }
   ],
   "source": [
    "movies.shape"
   ],
   "metadata": {
    "collapsed": false
   }
  },
  {
   "cell_type": "markdown",
   "source": [
    "# Clean the movie titles by removing extra whitespace and punctuation marks"
   ],
   "metadata": {
    "collapsed": false
   }
  },
  {
   "cell_type": "code",
   "execution_count": 394,
   "outputs": [
    {
     "name": "stderr",
     "output_type": "stream",
     "text": [
      "C:\\Users\\User\\AppData\\Local\\Temp\\ipykernel_10044\\3350034636.py:2: FutureWarning: The default value of regex will change from True to False in a future version.\n",
      "  movies['title'] = movies['title'].str.replace('[^\\w\\s]', '')\n"
     ]
    }
   ],
   "source": [
    "movies['title'] = movies['title'].str.strip()\n",
    "movies['title'] = movies['title'].str.replace('[^\\w\\s]', '')"
   ],
   "metadata": {
    "collapsed": false
   }
  },
  {
   "cell_type": "markdown",
   "source": [
    "# Load the ratings.csv file"
   ],
   "metadata": {
    "collapsed": false
   }
  },
  {
   "cell_type": "code",
   "execution_count": 395,
   "outputs": [],
   "source": [
    "ratings = pd.read_csv('ratings.csv')"
   ],
   "metadata": {
    "collapsed": false
   }
  },
  {
   "cell_type": "code",
   "execution_count": 396,
   "outputs": [
    {
     "data": {
      "text/plain": "   userId  movieId  rating   timestamp\n0       1      307     3.5  1256677221\n1       1      481     3.5  1256677456\n2       1     1091     1.5  1256677471\n3       1     1257     4.5  1256677460\n4       1     1449     4.5  1256677264",
      "text/html": "<div>\n<style scoped>\n    .dataframe tbody tr th:only-of-type {\n        vertical-align: middle;\n    }\n\n    .dataframe tbody tr th {\n        vertical-align: top;\n    }\n\n    .dataframe thead th {\n        text-align: right;\n    }\n</style>\n<table border=\"1\" class=\"dataframe\">\n  <thead>\n    <tr style=\"text-align: right;\">\n      <th></th>\n      <th>userId</th>\n      <th>movieId</th>\n      <th>rating</th>\n      <th>timestamp</th>\n    </tr>\n  </thead>\n  <tbody>\n    <tr>\n      <th>0</th>\n      <td>1</td>\n      <td>307</td>\n      <td>3.5</td>\n      <td>1256677221</td>\n    </tr>\n    <tr>\n      <th>1</th>\n      <td>1</td>\n      <td>481</td>\n      <td>3.5</td>\n      <td>1256677456</td>\n    </tr>\n    <tr>\n      <th>2</th>\n      <td>1</td>\n      <td>1091</td>\n      <td>1.5</td>\n      <td>1256677471</td>\n    </tr>\n    <tr>\n      <th>3</th>\n      <td>1</td>\n      <td>1257</td>\n      <td>4.5</td>\n      <td>1256677460</td>\n    </tr>\n    <tr>\n      <th>4</th>\n      <td>1</td>\n      <td>1449</td>\n      <td>4.5</td>\n      <td>1256677264</td>\n    </tr>\n  </tbody>\n</table>\n</div>"
     },
     "execution_count": 396,
     "metadata": {},
     "output_type": "execute_result"
    }
   ],
   "source": [
    "ratings.head()"
   ],
   "metadata": {
    "collapsed": false
   }
  },
  {
   "cell_type": "code",
   "execution_count": 397,
   "outputs": [
    {
     "data": {
      "text/plain": "(27753444, 4)"
     },
     "execution_count": 397,
     "metadata": {},
     "output_type": "execute_result"
    }
   ],
   "source": [
    "ratings.shape"
   ],
   "metadata": {
    "collapsed": false
   }
  },
  {
   "cell_type": "markdown",
   "source": [
    "# Drop the timestamp column from the ratings dataframe"
   ],
   "metadata": {
    "collapsed": false
   }
  },
  {
   "cell_type": "code",
   "execution_count": 398,
   "outputs": [],
   "source": [
    "ratings = ratings.drop('timestamp', axis=1)"
   ],
   "metadata": {
    "collapsed": false
   }
  },
  {
   "cell_type": "markdown",
   "source": [
    "# Check for any missing or duplicate data in the ratings dataframe"
   ],
   "metadata": {
    "collapsed": false
   }
  },
  {
   "cell_type": "code",
   "execution_count": 399,
   "outputs": [
    {
     "name": "stdout",
     "output_type": "stream",
     "text": [
      "Missing values in ratings:\n",
      " userId     0\n",
      "movieId    0\n",
      "rating     0\n",
      "dtype: int64\n",
      "Duplicate values in ratings: 0\n"
     ]
    }
   ],
   "source": [
    "print('Missing values in ratings:\\n', ratings.isnull().sum())\n",
    "print('Duplicate values in ratings:', ratings.duplicated().sum())"
   ],
   "metadata": {
    "collapsed": false
   }
  },
  {
   "cell_type": "markdown",
   "source": [
    "# Load the tags.csv file"
   ],
   "metadata": {
    "collapsed": false
   }
  },
  {
   "cell_type": "code",
   "execution_count": 400,
   "outputs": [],
   "source": [
    "tags = pd.read_csv('tags.csv')"
   ],
   "metadata": {
    "collapsed": false
   }
  },
  {
   "cell_type": "code",
   "execution_count": 401,
   "outputs": [
    {
     "data": {
      "text/plain": "   userId  movieId           tag   timestamp\n0      14      110          epic  1443148538\n1      14      110      Medieval  1443148532\n2      14      260        sci-fi  1442169410\n3      14      260  space action  1442169421\n4      14      318  imdb top 250  1442615195",
      "text/html": "<div>\n<style scoped>\n    .dataframe tbody tr th:only-of-type {\n        vertical-align: middle;\n    }\n\n    .dataframe tbody tr th {\n        vertical-align: top;\n    }\n\n    .dataframe thead th {\n        text-align: right;\n    }\n</style>\n<table border=\"1\" class=\"dataframe\">\n  <thead>\n    <tr style=\"text-align: right;\">\n      <th></th>\n      <th>userId</th>\n      <th>movieId</th>\n      <th>tag</th>\n      <th>timestamp</th>\n    </tr>\n  </thead>\n  <tbody>\n    <tr>\n      <th>0</th>\n      <td>14</td>\n      <td>110</td>\n      <td>epic</td>\n      <td>1443148538</td>\n    </tr>\n    <tr>\n      <th>1</th>\n      <td>14</td>\n      <td>110</td>\n      <td>Medieval</td>\n      <td>1443148532</td>\n    </tr>\n    <tr>\n      <th>2</th>\n      <td>14</td>\n      <td>260</td>\n      <td>sci-fi</td>\n      <td>1442169410</td>\n    </tr>\n    <tr>\n      <th>3</th>\n      <td>14</td>\n      <td>260</td>\n      <td>space action</td>\n      <td>1442169421</td>\n    </tr>\n    <tr>\n      <th>4</th>\n      <td>14</td>\n      <td>318</td>\n      <td>imdb top 250</td>\n      <td>1442615195</td>\n    </tr>\n  </tbody>\n</table>\n</div>"
     },
     "execution_count": 401,
     "metadata": {},
     "output_type": "execute_result"
    }
   ],
   "source": [
    "tags.head()"
   ],
   "metadata": {
    "collapsed": false
   }
  },
  {
   "cell_type": "code",
   "execution_count": 402,
   "outputs": [
    {
     "data": {
      "text/plain": "(1108997, 4)"
     },
     "execution_count": 402,
     "metadata": {},
     "output_type": "execute_result"
    }
   ],
   "source": [
    "tags.shape"
   ],
   "metadata": {
    "collapsed": false
   }
  },
  {
   "cell_type": "markdown",
   "source": [
    "# Drop the timestamp column from the tags dataframe"
   ],
   "metadata": {
    "collapsed": false
   }
  },
  {
   "cell_type": "code",
   "execution_count": 403,
   "outputs": [],
   "source": [
    "tags = tags.drop('timestamp', axis=1)"
   ],
   "metadata": {
    "collapsed": false
   }
  },
  {
   "cell_type": "markdown",
   "source": [
    "# Check for any missing or duplicate data in the tags dataframe"
   ],
   "metadata": {
    "collapsed": false
   }
  },
  {
   "cell_type": "code",
   "execution_count": 404,
   "outputs": [
    {
     "name": "stdout",
     "output_type": "stream",
     "text": [
      "Missing values in tags:\n",
      " userId      0\n",
      "movieId     0\n",
      "tag        16\n",
      "dtype: int64\n",
      "Duplicate values in tags: 0\n"
     ]
    }
   ],
   "source": [
    "print('Missing values in tags:\\n', tags.isnull().sum())\n",
    "print('Duplicate values in tags:', tags.duplicated().sum())"
   ],
   "metadata": {
    "collapsed": false
   }
  },
  {
   "cell_type": "markdown",
   "source": [
    "# Merge the movies, ratings, and tags data into a single DataFrame"
   ],
   "metadata": {
    "collapsed": false
   }
  },
  {
   "cell_type": "code",
   "execution_count": 405,
   "outputs": [],
   "source": [
    "data = pd.merge(movies, ratings, on='movieId')\n",
    "data = pd.merge(data, tags, on=['userId', 'movieId'])"
   ],
   "metadata": {
    "collapsed": false
   }
  },
  {
   "cell_type": "markdown",
   "source": [
    "# Check for any missing or duplicate data in the merged dataframe"
   ],
   "metadata": {
    "collapsed": false
   }
  },
  {
   "cell_type": "code",
   "execution_count": 406,
   "outputs": [
    {
     "name": "stdout",
     "output_type": "stream",
     "text": [
      "Missing values in data:\n",
      " movieId    0\n",
      "title      0\n",
      "genres     0\n",
      "userId     0\n",
      "rating     0\n",
      "tag        1\n",
      "dtype: int64\n",
      "Duplicate values in data: 0\n"
     ]
    }
   ],
   "source": [
    "print('Missing values in data:\\n', data.isnull().sum())\n",
    "print('Duplicate values in data:', data.duplicated().sum())"
   ],
   "metadata": {
    "collapsed": false
   }
  },
  {
   "cell_type": "code",
   "execution_count": 407,
   "outputs": [
    {
     "data": {
      "text/plain": "   movieId           title                                       genres  \\\n0        1  Toy Story 1995  Adventure|Animation|Children|Comedy|Fantasy   \n1        1  Toy Story 1995  Adventure|Animation|Children|Comedy|Fantasy   \n2        1  Toy Story 1995  Adventure|Animation|Children|Comedy|Fantasy   \n3        1  Toy Story 1995  Adventure|Animation|Children|Comedy|Fantasy   \n4        1  Toy Story 1995  Adventure|Animation|Children|Comedy|Fantasy   \n\n   userId  rating          tag  \n0    1040     2.5     animated  \n1    1040     2.5  buddy movie  \n2    1040     2.5      Cartoon  \n3    1040     2.5          cgi  \n4    1040     2.5       comedy  ",
      "text/html": "<div>\n<style scoped>\n    .dataframe tbody tr th:only-of-type {\n        vertical-align: middle;\n    }\n\n    .dataframe tbody tr th {\n        vertical-align: top;\n    }\n\n    .dataframe thead th {\n        text-align: right;\n    }\n</style>\n<table border=\"1\" class=\"dataframe\">\n  <thead>\n    <tr style=\"text-align: right;\">\n      <th></th>\n      <th>movieId</th>\n      <th>title</th>\n      <th>genres</th>\n      <th>userId</th>\n      <th>rating</th>\n      <th>tag</th>\n    </tr>\n  </thead>\n  <tbody>\n    <tr>\n      <th>0</th>\n      <td>1</td>\n      <td>Toy Story 1995</td>\n      <td>Adventure|Animation|Children|Comedy|Fantasy</td>\n      <td>1040</td>\n      <td>2.5</td>\n      <td>animated</td>\n    </tr>\n    <tr>\n      <th>1</th>\n      <td>1</td>\n      <td>Toy Story 1995</td>\n      <td>Adventure|Animation|Children|Comedy|Fantasy</td>\n      <td>1040</td>\n      <td>2.5</td>\n      <td>buddy movie</td>\n    </tr>\n    <tr>\n      <th>2</th>\n      <td>1</td>\n      <td>Toy Story 1995</td>\n      <td>Adventure|Animation|Children|Comedy|Fantasy</td>\n      <td>1040</td>\n      <td>2.5</td>\n      <td>Cartoon</td>\n    </tr>\n    <tr>\n      <th>3</th>\n      <td>1</td>\n      <td>Toy Story 1995</td>\n      <td>Adventure|Animation|Children|Comedy|Fantasy</td>\n      <td>1040</td>\n      <td>2.5</td>\n      <td>cgi</td>\n    </tr>\n    <tr>\n      <th>4</th>\n      <td>1</td>\n      <td>Toy Story 1995</td>\n      <td>Adventure|Animation|Children|Comedy|Fantasy</td>\n      <td>1040</td>\n      <td>2.5</td>\n      <td>comedy</td>\n    </tr>\n  </tbody>\n</table>\n</div>"
     },
     "execution_count": 407,
     "metadata": {},
     "output_type": "execute_result"
    }
   ],
   "source": [
    "data.head()"
   ],
   "metadata": {
    "collapsed": false
   }
  },
  {
   "cell_type": "code",
   "execution_count": 408,
   "outputs": [
    {
     "data": {
      "text/plain": "(830492, 6)"
     },
     "execution_count": 408,
     "metadata": {},
     "output_type": "execute_result"
    }
   ],
   "source": [
    "data.shape"
   ],
   "metadata": {
    "collapsed": false
   }
  },
  {
   "cell_type": "markdown",
   "source": [
    "# Convert movie titles to numerical IDs"
   ],
   "metadata": {
    "collapsed": false
   }
  },
  {
   "cell_type": "code",
   "execution_count": 409,
   "outputs": [],
   "source": [
    "movie_id_to_name = dict(zip(data['movieId'].unique(), range(len(data['movieId'].unique()))))\n",
    "data['movieId'] = data['movieId'].map(movie_id_to_name)"
   ],
   "metadata": {
    "collapsed": false
   }
  },
  {
   "cell_type": "code",
   "execution_count": 410,
   "outputs": [],
   "source": [
    "import numpy as np"
   ],
   "metadata": {
    "collapsed": false
   }
  },
  {
   "cell_type": "markdown",
   "source": [
    "# Convert user IDs to numerical IDs"
   ],
   "metadata": {
    "collapsed": false
   }
  },
  {
   "cell_type": "code",
   "execution_count": 411,
   "outputs": [],
   "source": [
    "user_id_to_name = dict(zip(data['userId'].unique(), range(len(data['userId'].unique()))))\n",
    "data['userId'] = data['userId'].map(user_id_to_name)"
   ],
   "metadata": {
    "collapsed": false
   }
  },
  {
   "cell_type": "markdown",
   "source": [
    "# Split the data into training, validation, and testing sets"
   ],
   "metadata": {
    "collapsed": false
   }
  },
  {
   "cell_type": "code",
   "execution_count": 412,
   "outputs": [],
   "source": [
    "train_data, test_data = train_test_split(data, test_size=0.15, random_state=42)\n",
    "train_data, val_data = train_test_split(train_data, test_size=0.2, random_state=42)\n"
   ],
   "metadata": {
    "collapsed": false
   }
  },
  {
   "cell_type": "markdown",
   "source": [
    "# Create sequences of movie IDs for each user"
   ],
   "metadata": {
    "collapsed": false
   }
  },
  {
   "cell_type": "code",
   "execution_count": 413,
   "outputs": [],
   "source": [
    "# Create a vocabulary of all unique movie IDs\n",
    "vocabulary = sorted(data['movieId'].unique())\n"
   ],
   "metadata": {
    "collapsed": false
   }
  },
  {
   "cell_type": "code",
   "execution_count": 414,
   "outputs": [],
   "source": [
    "# Define the vocabulary size and sequence length\n",
    "vocabulary_size = len(vocabulary)\n",
    "max_sequence_length = 200"
   ],
   "metadata": {
    "collapsed": false
   }
  },
  {
   "cell_type": "code",
   "execution_count": 415,
   "outputs": [],
   "source": [
    "\n",
    "def create_sequences(data, vocabulary, max_sequence_length):\n",
    "    sequences = []\n",
    "    for user_id, group in data.groupby('userId'):\n",
    "        movie_ids = group['movieId'].values\n",
    "        sequence = [vocabulary.index(movie_id) + 1 for movie_id in movie_ids if movie_id in vocabulary]\n",
    "        if len(sequence) > max_sequence_length:\n",
    "            sequence = sequence[:max_sequence_length]\n",
    "        else:\n",
    "            sequence = sequence + [0] * (max_sequence_length - len(sequence))\n",
    "        sequences.append(sequence)\n",
    "    return np.array(sequences)\n"
   ],
   "metadata": {
    "collapsed": false
   }
  },
  {
   "cell_type": "code",
   "execution_count": 416,
   "outputs": [],
   "source": [
    "# Create sequences of movie IDs for each user\n",
    "train_sequences = create_sequences(train_data, vocabulary, max_sequence_length)\n",
    "val_sequences = create_sequences(val_data, vocabulary, max_sequence_length)\n",
    "test_sequences = create_sequences(test_data, vocabulary, max_sequence_length)"
   ],
   "metadata": {
    "collapsed": false
   }
  },
  {
   "cell_type": "code",
   "execution_count": 417,
   "outputs": [
    {
     "data": {
      "text/plain": "3388404"
     },
     "execution_count": 417,
     "metadata": {},
     "output_type": "execute_result"
    }
   ],
   "source": [
    "train_data.size"
   ],
   "metadata": {
    "collapsed": false
   }
  },
  {
   "cell_type": "code",
   "execution_count": 418,
   "outputs": [
    {
     "name": "stdout",
     "output_type": "stream",
     "text": [
      "[[ 9697  8684  8064 ...  8315  3192   507]\n",
      " [ 3093   937  3255 ...  1109  2988  7746]\n",
      " [    1 12681     1 ...     0     0     0]\n",
      " ...\n",
      " [21891 21891 21891 ...     0     0     0]\n",
      " [21913 21913     0 ...     0     0     0]\n",
      " [21935 21935 21935 ...     0     0     0]]\n"
     ]
    }
   ],
   "source": [
    "print(train_sequences)"
   ],
   "metadata": {
    "collapsed": false
   }
  },
  {
   "cell_type": "code",
   "execution_count": 419,
   "outputs": [
    {
     "name": "stdout",
     "output_type": "stream",
     "text": [
      "(15116, 200)\n"
     ]
    }
   ],
   "source": [
    "print(train_sequences.shape)"
   ],
   "metadata": {
    "collapsed": false
   }
  },
  {
   "cell_type": "code",
   "execution_count": 420,
   "outputs": [
    {
     "name": "stdout",
     "output_type": "stream",
     "text": [
      "Minimum value: 0\n",
      "Maximum value: 21942\n"
     ]
    }
   ],
   "source": [
    "\n",
    "print(\"Minimum value:\", np.min(train_sequences))\n",
    "print(\"Maximum value:\", np.max(train_sequences))\n"
   ],
   "metadata": {
    "collapsed": false
   }
  },
  {
   "cell_type": "code",
   "execution_count": 421,
   "outputs": [
    {
     "data": {
      "text/plain": "847104"
     },
     "execution_count": 421,
     "metadata": {},
     "output_type": "execute_result"
    }
   ],
   "source": [
    "val_data.size"
   ],
   "metadata": {
    "collapsed": false
   }
  },
  {
   "cell_type": "code",
   "execution_count": 422,
   "outputs": [
    {
     "name": "stdout",
     "output_type": "stream",
     "text": [
      "[[ 8064  8064  7785 ...  2166  3762  1176]\n",
      " [ 1132  1449  7417 ...  3762  2988  3791]\n",
      " [  758     1     0 ...     0     0     0]\n",
      " ...\n",
      " [21910 21907     0 ...     0     0     0]\n",
      " [21782 21938     0 ...     0     0     0]\n",
      " [21864     0     0 ...     0     0     0]]\n"
     ]
    }
   ],
   "source": [
    "print(val_sequences)"
   ],
   "metadata": {
    "collapsed": false
   }
  },
  {
   "cell_type": "code",
   "execution_count": 423,
   "outputs": [
    {
     "name": "stdout",
     "output_type": "stream",
     "text": [
      "(9678, 200)\n"
     ]
    }
   ],
   "source": [
    "print(val_sequences.shape)"
   ],
   "metadata": {
    "collapsed": false
   }
  },
  {
   "cell_type": "code",
   "execution_count": 424,
   "outputs": [
    {
     "name": "stdout",
     "output_type": "stream",
     "text": [
      "Minimum value: 0\n",
      "Maximum value: 21942\n"
     ]
    }
   ],
   "source": [
    "\n",
    "print(\"Minimum value:\", np.min(val_sequences))\n",
    "print(\"Maximum value:\", np.max(val_sequences))"
   ],
   "metadata": {
    "collapsed": false
   }
  },
  {
   "cell_type": "code",
   "execution_count": 425,
   "outputs": [
    {
     "data": {
      "text/plain": "747444"
     },
     "execution_count": 425,
     "metadata": {},
     "output_type": "execute_result"
    }
   ],
   "source": [
    "test_data.size"
   ],
   "metadata": {
    "collapsed": false
   }
  },
  {
   "cell_type": "code",
   "execution_count": 426,
   "outputs": [
    {
     "name": "stdout",
     "output_type": "stream",
     "text": [
      "[[14978 15622 10857 ...  1365   676 14978]\n",
      " [ 7746     1  1942 ...  3257  2332  1140]\n",
      " [    1   488  6086 ...     0     0     0]\n",
      " ...\n",
      " [21877     0     0 ...     0     0     0]\n",
      " [21886     0     0 ...     0     0     0]\n",
      " [21913     0     0 ...     0     0     0]]\n"
     ]
    }
   ],
   "source": [
    "print(test_sequences)"
   ],
   "metadata": {
    "collapsed": false
   }
  },
  {
   "cell_type": "code",
   "execution_count": 427,
   "outputs": [
    {
     "name": "stdout",
     "output_type": "stream",
     "text": [
      "(9192, 200)\n"
     ]
    }
   ],
   "source": [
    "print(test_sequences.shape)"
   ],
   "metadata": {
    "collapsed": false
   }
  },
  {
   "cell_type": "code",
   "execution_count": 428,
   "outputs": [
    {
     "name": "stdout",
     "output_type": "stream",
     "text": [
      "Minimum value: 0\n",
      "Maximum value: 21942\n"
     ]
    }
   ],
   "source": [
    "print(\"Minimum value:\", np.min(test_sequences))\n",
    "print(\"Maximum value:\", np.max(test_sequences))"
   ],
   "metadata": {
    "collapsed": false
   }
  },
  {
   "cell_type": "code",
   "execution_count": 429,
   "outputs": [],
   "source": [
    "from keras_preprocessing.sequence import pad_sequences"
   ],
   "metadata": {
    "collapsed": false
   }
  },
  {
   "cell_type": "markdown",
   "source": [
    "# Pad sequences with zeros to make them the same length"
   ],
   "metadata": {
    "collapsed": false
   }
  },
  {
   "cell_type": "code",
   "execution_count": 430,
   "outputs": [],
   "source": [
    "max_sequence_length = 200"
   ],
   "metadata": {
    "collapsed": false
   }
  },
  {
   "cell_type": "code",
   "execution_count": 431,
   "outputs": [],
   "source": [
    "train_sequences_padded = pad_sequences(train_sequences.tolist(), maxlen=max_sequence_length, padding='post', truncating='post')\n",
    "val_sequences_padded = pad_sequences(val_sequences.tolist(), maxlen=max_sequence_length, padding='post', truncating='post')\n",
    "test_sequences_padded = pad_sequences(test_sequences.tolist(), maxlen=max_sequence_length, padding='post', truncating='post')\n"
   ],
   "metadata": {
    "collapsed": false
   }
  },
  {
   "cell_type": "code",
   "execution_count": 432,
   "outputs": [
    {
     "name": "stdout",
     "output_type": "stream",
     "text": [
      "21942\n"
     ]
    }
   ],
   "source": [
    "test_max_movie_id = np.max(test_sequences_padded)\n",
    "print(test_max_movie_id)\n"
   ],
   "metadata": {
    "collapsed": false
   }
  },
  {
   "cell_type": "code",
   "execution_count": 433,
   "outputs": [
    {
     "data": {
      "text/plain": "(15116, 200)"
     },
     "execution_count": 433,
     "metadata": {},
     "output_type": "execute_result"
    }
   ],
   "source": [
    "train_sequences_padded.shape"
   ],
   "metadata": {
    "collapsed": false
   }
  },
  {
   "cell_type": "code",
   "execution_count": 434,
   "outputs": [
    {
     "data": {
      "text/plain": "(9678, 200)"
     },
     "execution_count": 434,
     "metadata": {},
     "output_type": "execute_result"
    }
   ],
   "source": [
    "val_sequences_padded.shape\n"
   ],
   "metadata": {
    "collapsed": false
   }
  },
  {
   "cell_type": "code",
   "execution_count": 435,
   "outputs": [
    {
     "data": {
      "text/plain": "(9192, 200)"
     },
     "execution_count": 435,
     "metadata": {},
     "output_type": "execute_result"
    }
   ],
   "source": [
    "test_sequences_padded.shape"
   ],
   "metadata": {
    "collapsed": false
   }
  },
  {
   "cell_type": "markdown",
   "source": [
    "# Define the RNN model"
   ],
   "metadata": {
    "collapsed": false
   }
  },
  {
   "cell_type": "code",
   "execution_count": 436,
   "outputs": [],
   "source": [
    "# Get the maximum movie ID\n",
    "max_movie_id = data['movieId'].max()\n",
    "\n",
    "# Define the embedding size\n",
    "embedding_size = 64\n"
   ],
   "metadata": {
    "collapsed": false
   }
  },
  {
   "cell_type": "code",
   "execution_count": 437,
   "outputs": [
    {
     "name": "stdout",
     "output_type": "stream",
     "text": [
      "21941\n"
     ]
    }
   ],
   "source": [
    "print(max_movie_id)"
   ],
   "metadata": {
    "collapsed": false
   }
  },
  {
   "cell_type": "code",
   "execution_count": 438,
   "outputs": [
    {
     "name": "stdout",
     "output_type": "stream",
     "text": [
      "200\n"
     ]
    }
   ],
   "source": [
    "print(max_sequence_length)"
   ],
   "metadata": {
    "collapsed": false
   }
  },
  {
   "cell_type": "code",
   "execution_count": 444,
   "outputs": [],
   "source": [
    "tokenizer = tf.keras.preprocessing.text.Tokenizer(oov_token=\"<OOV>\") #to remove the out of vocabulary(OOV)\n"
   ],
   "metadata": {
    "collapsed": false
   }
  },
  {
   "cell_type": "code",
   "execution_count": 445,
   "outputs": [],
   "source": [
    "# Define integer encoding function\n",
    "def integer_encode_sequences(sequences, num_movies):\n",
    "    encoded_sequences = []\n",
    "    for sequence in sequences:\n",
    "        encoded_sequence = []\n",
    "        for movie_id in sequence:\n",
    "            encoded_sequence.append(movie_id-1) # subtract 1 to make movie IDs start from 0\n",
    "        encoded_sequences.append(encoded_sequence)\n",
    "    return encoded_sequences\n",
    "\n",
    "# Integer encode sequences\n",
    "y_train = np.array(integer_encode_sequences([seq[:200] for seq in train_sequences_padded], max_movie_id))\n",
    "y_val = np.array(integer_encode_sequences([seq[:200] for seq in val_sequences_padded], max_movie_id))\n",
    "y_test = np.array(integer_encode_sequences([seq[:200] for seq in test_sequences_padded], max_movie_id))\n"
   ],
   "metadata": {
    "collapsed": false
   }
  },
  {
   "cell_type": "code",
   "execution_count": 446,
   "outputs": [],
   "source": [
    "X_train = np.array(integer_encode_sequences([seq[:200] for seq in train_sequences_padded], max_movie_id))\n",
    "X_val = np.array(integer_encode_sequences([seq[:200] for seq in val_sequences_padded], max_movie_id))\n",
    "X_test = np.array(integer_encode_sequences([seq[:200] for seq in test_sequences_padded], max_movie_id))"
   ],
   "metadata": {
    "collapsed": false
   }
  },
  {
   "cell_type": "code",
   "execution_count": 447,
   "outputs": [
    {
     "name": "stdout",
     "output_type": "stream",
     "text": [
      "21942\n"
     ]
    }
   ],
   "source": [
    "test_max_movie_id = np.max(test_sequences_padded)\n",
    "print(test_max_movie_id)\n"
   ],
   "metadata": {
    "collapsed": false
   }
  },
  {
   "cell_type": "code",
   "execution_count": 448,
   "outputs": [
    {
     "data": {
      "text/plain": "(15116, 200)"
     },
     "execution_count": 448,
     "metadata": {},
     "output_type": "execute_result"
    }
   ],
   "source": [
    "y_train.shape"
   ],
   "metadata": {
    "collapsed": false
   }
  },
  {
   "cell_type": "code",
   "execution_count": 449,
   "outputs": [
    {
     "data": {
      "text/plain": "(15116, 200)"
     },
     "execution_count": 449,
     "metadata": {},
     "output_type": "execute_result"
    }
   ],
   "source": [
    "X_train.shape"
   ],
   "metadata": {
    "collapsed": false
   }
  },
  {
   "cell_type": "code",
   "execution_count": 450,
   "outputs": [
    {
     "data": {
      "text/plain": "(9678, 200)"
     },
     "execution_count": 450,
     "metadata": {},
     "output_type": "execute_result"
    }
   ],
   "source": [
    "y_val.shape"
   ],
   "metadata": {
    "collapsed": false
   }
  },
  {
   "cell_type": "code",
   "execution_count": 451,
   "outputs": [
    {
     "data": {
      "text/plain": "(9678, 200)"
     },
     "execution_count": 451,
     "metadata": {},
     "output_type": "execute_result"
    }
   ],
   "source": [
    "X_val.shape"
   ],
   "metadata": {
    "collapsed": false
   }
  },
  {
   "cell_type": "code",
   "execution_count": 452,
   "outputs": [
    {
     "data": {
      "text/plain": "(9192, 200)"
     },
     "execution_count": 452,
     "metadata": {},
     "output_type": "execute_result"
    }
   ],
   "source": [
    "y_test.shape"
   ],
   "metadata": {
    "collapsed": false
   }
  },
  {
   "cell_type": "code",
   "execution_count": 453,
   "outputs": [
    {
     "data": {
      "text/plain": "(9192, 200)"
     },
     "execution_count": 453,
     "metadata": {},
     "output_type": "execute_result"
    }
   ],
   "source": [
    "X_test.shape"
   ],
   "metadata": {
    "collapsed": false
   }
  },
  {
   "cell_type": "code",
   "execution_count": 462,
   "outputs": [
    {
     "name": "stdout",
     "output_type": "stream",
     "text": [
      "[[ 9696  8683  8063 ...  8314  3191   506]\n",
      " [ 3092   936  3254 ...  1108  2987  7745]\n",
      " [    0 12680     0 ...    -1    -1    -1]\n",
      " ...\n",
      " [21890 21890 21890 ...    -1    -1    -1]\n",
      " [21912 21912    -1 ...    -1    -1    -1]\n",
      " [21934 21934 21934 ...    -1    -1    -1]]\n"
     ]
    }
   ],
   "source": [
    "print(y_train)"
   ],
   "metadata": {
    "collapsed": false
   }
  },
  {
   "cell_type": "code",
   "execution_count": 463,
   "outputs": [
    {
     "name": "stdout",
     "output_type": "stream",
     "text": [
      "[[14977 15621 10856 ...  1364   675 14977]\n",
      " [ 7745     0  1941 ...  3256  2331  1139]\n",
      " [    0   487  6085 ...    -1    -1    -1]\n",
      " ...\n",
      " [21876    -1    -1 ...    -1    -1    -1]\n",
      " [21885    -1    -1 ...    -1    -1    -1]\n",
      " [21912    -1    -1 ...    -1    -1    -1]]\n"
     ]
    }
   ],
   "source": [
    "print(y_test)"
   ],
   "metadata": {
    "collapsed": false
   }
  },
  {
   "cell_type": "code",
   "execution_count": 464,
   "outputs": [
    {
     "name": "stdout",
     "output_type": "stream",
     "text": [
      "[[ 8063  8063  7784 ...  2165  3761  1175]\n",
      " [ 1131  1448  7416 ...  3761  2987  3790]\n",
      " [  757     0    -1 ...    -1    -1    -1]\n",
      " ...\n",
      " [21909 21906    -1 ...    -1    -1    -1]\n",
      " [21781 21937    -1 ...    -1    -1    -1]\n",
      " [21863    -1    -1 ...    -1    -1    -1]]\n"
     ]
    }
   ],
   "source": [
    "print(y_val)"
   ],
   "metadata": {
    "collapsed": false
   }
  },
  {
   "cell_type": "code",
   "execution_count": 466,
   "outputs": [
    {
     "name": "stdout",
     "output_type": "stream",
     "text": [
      "[[ 9696  8683  8063 ...  8314  3191   506]\n",
      " [ 3092   936  3254 ...  1108  2987  7745]\n",
      " [    0 12680     0 ...    -1    -1    -1]\n",
      " ...\n",
      " [21890 21890 21890 ...    -1    -1    -1]\n",
      " [21912 21912    -1 ...    -1    -1    -1]\n",
      " [21934 21934 21934 ...    -1    -1    -1]]\n"
     ]
    }
   ],
   "source": [
    "print(X_train)"
   ],
   "metadata": {
    "collapsed": false
   }
  },
  {
   "cell_type": "code",
   "execution_count": 467,
   "outputs": [
    {
     "name": "stdout",
     "output_type": "stream",
     "text": [
      "[[14977 15621 10856 ...  1364   675 14977]\n",
      " [ 7745     0  1941 ...  3256  2331  1139]\n",
      " [    0   487  6085 ...    -1    -1    -1]\n",
      " ...\n",
      " [21876    -1    -1 ...    -1    -1    -1]\n",
      " [21885    -1    -1 ...    -1    -1    -1]\n",
      " [21912    -1    -1 ...    -1    -1    -1]]\n"
     ]
    }
   ],
   "source": [
    "print(X_test)"
   ],
   "metadata": {
    "collapsed": false
   }
  },
  {
   "cell_type": "code",
   "execution_count": 468,
   "outputs": [
    {
     "name": "stdout",
     "output_type": "stream",
     "text": [
      "[[ 8063  8063  7784 ...  2165  3761  1175]\n",
      " [ 1131  1448  7416 ...  3761  2987  3790]\n",
      " [  757     0    -1 ...    -1    -1    -1]\n",
      " ...\n",
      " [21909 21906    -1 ...    -1    -1    -1]\n",
      " [21781 21937    -1 ...    -1    -1    -1]\n",
      " [21863    -1    -1 ...    -1    -1    -1]]\n"
     ]
    }
   ],
   "source": [
    "print(X_val)"
   ],
   "metadata": {
    "collapsed": false
   }
  },
  {
   "cell_type": "code",
   "execution_count": 477,
   "outputs": [],
   "source": [
    "y_train[y_train == -1] = max_movie_id+2\n",
    "y_test[y_test == -1] = max_movie_id+2\n",
    "y_val[y_val == -1] = max_movie_id+2\n",
    "\n",
    "X_train[X_train == -1] = max_movie_id+2\n",
    "X_test[X_test == -1] = max_movie_id+2\n",
    "X_val[X_val == -1] = max_movie_id+2\n",
    "# using max_movie_id +2 to replace the -1"
   ],
   "metadata": {
    "collapsed": false
   }
  },
  {
   "cell_type": "code",
   "execution_count": 478,
   "outputs": [
    {
     "name": "stdout",
     "output_type": "stream",
     "text": [
      "[[ 9696  8683  8063 ...  8314  3191   506]\n",
      " [ 3092   936  3254 ...  1108  2987  7745]\n",
      " [    0 12680     0 ...     0     0     0]\n",
      " ...\n",
      " [21890 21890 21890 ...     0     0     0]\n",
      " [21912 21912     0 ...     0     0     0]\n",
      " [21934 21934 21934 ...     0     0     0]]\n"
     ]
    }
   ],
   "source": [
    "print(y_train)"
   ],
   "metadata": {
    "collapsed": false
   }
  },
  {
   "cell_type": "code",
   "execution_count": 479,
   "outputs": [
    {
     "name": "stdout",
     "output_type": "stream",
     "text": [
      "[[14977 15621 10856 ...  1364   675 14977]\n",
      " [ 7745     0  1941 ...  3256  2331  1139]\n",
      " [    0   487  6085 ...     0     0     0]\n",
      " ...\n",
      " [21876     0     0 ...     0     0     0]\n",
      " [21885     0     0 ...     0     0     0]\n",
      " [21912     0     0 ...     0     0     0]]\n"
     ]
    }
   ],
   "source": [
    "print(y_test)"
   ],
   "metadata": {
    "collapsed": false
   }
  },
  {
   "cell_type": "code",
   "execution_count": 480,
   "outputs": [],
   "source": [
    "\n",
    "from tensorflow.keras.models import Sequential\n",
    "from tensorflow.keras.layers import Conv2D, MaxPooling2D, Dense, Flatten, Dropout\n",
    "from keras.layers import LSTM, Embedding\n",
    "\n",
    "lstm_size = 128"
   ],
   "metadata": {
    "collapsed": false
   }
  },
  {
   "cell_type": "code",
   "execution_count": 481,
   "outputs": [
    {
     "name": "stdout",
     "output_type": "stream",
     "text": [
      "21941\n"
     ]
    }
   ],
   "source": [
    "print(max_movie_id)"
   ],
   "metadata": {
    "collapsed": false
   }
  },
  {
   "cell_type": "markdown",
   "source": [
    "# Define model"
   ],
   "metadata": {
    "collapsed": false
   }
  },
  {
   "cell_type": "code",
   "execution_count": 496,
   "outputs": [],
   "source": [
    "model = Sequential()\n",
    "model.add(Embedding(max_movie_id+1, embedding_size, input_length=max_sequence_length, mask_zero=True))\n",
    "model.add(LSTM(lstm_size, return_sequences=True))\n",
    "model.add(Dense(max_movie_id+1, activation='softmax'))"
   ],
   "metadata": {
    "collapsed": false
   }
  },
  {
   "cell_type": "markdown",
   "source": [
    "# Compile the model"
   ],
   "metadata": {
    "collapsed": false
   }
  },
  {
   "cell_type": "code",
   "execution_count": 483,
   "outputs": [],
   "source": [
    "model.compile(loss='sparse_categorical_crossentropy', optimizer='adam', metrics=['accuracy'])"
   ],
   "metadata": {
    "collapsed": false
   }
  },
  {
   "cell_type": "markdown",
   "source": [
    "# Train the model with early stopping based on validation loss"
   ],
   "metadata": {
    "collapsed": false
   }
  },
  {
   "cell_type": "code",
   "execution_count": 484,
   "outputs": [
    {
     "name": "stdout",
     "output_type": "stream",
     "text": [
      "Epoch 1/15\n",
      "945/945 [==============================] - 2318s 2s/step - loss: 0.7846 - accuracy: 0.0118 - val_loss: 0.4137 - val_accuracy: 0.0090\n",
      "Epoch 2/15\n",
      "945/945 [==============================] - 2300s 2s/step - loss: 0.6889 - accuracy: 0.0158 - val_loss: 0.3780 - val_accuracy: 0.0181\n",
      "Epoch 3/15\n",
      "945/945 [==============================] - 2298s 2s/step - loss: 0.5801 - accuracy: 0.0896 - val_loss: 0.2844 - val_accuracy: 0.2448\n",
      "Epoch 4/15\n",
      "945/945 [==============================] - 2309s 2s/step - loss: 0.3774 - accuracy: 0.4795 - val_loss: 0.1772 - val_accuracy: 0.6302\n",
      "Epoch 5/15\n",
      "945/945 [==============================] - 2305s 2s/step - loss: 0.2299 - accuracy: 0.7299 - val_loss: 0.1197 - val_accuracy: 0.7807\n",
      "Epoch 6/15\n",
      "945/945 [==============================] - 2304s 2s/step - loss: 0.1541 - accuracy: 0.8250 - val_loss: 0.0895 - val_accuracy: 0.8416\n",
      "Epoch 7/15\n",
      "945/945 [==============================] - 2311s 2s/step - loss: 0.1117 - accuracy: 0.8711 - val_loss: 0.0718 - val_accuracy: 0.8752\n",
      "Epoch 8/15\n",
      "945/945 [==============================] - 2309s 2s/step - loss: 0.0839 - accuracy: 0.9000 - val_loss: 0.0597 - val_accuracy: 0.8977\n",
      "Epoch 9/15\n",
      "945/945 [==============================] - 2313s 2s/step - loss: 0.0636 - accuracy: 0.9228 - val_loss: 0.0511 - val_accuracy: 0.9160\n",
      "Epoch 10/15\n",
      "945/945 [==============================] - 2317s 2s/step - loss: 0.0481 - accuracy: 0.9435 - val_loss: 0.0445 - val_accuracy: 0.9296\n",
      "Epoch 11/15\n",
      "945/945 [==============================] - 2327s 2s/step - loss: 0.0357 - accuracy: 0.9613 - val_loss: 0.0393 - val_accuracy: 0.9399\n",
      "Epoch 12/15\n",
      "945/945 [==============================] - 2309s 2s/step - loss: 0.0257 - accuracy: 0.9784 - val_loss: 0.0349 - val_accuracy: 0.9483\n",
      "Epoch 13/15\n",
      "945/945 [==============================] - 2307s 2s/step - loss: 0.0178 - accuracy: 0.9927 - val_loss: 0.0315 - val_accuracy: 0.9553\n",
      "Epoch 14/15\n",
      "945/945 [==============================] - 2315s 2s/step - loss: 0.0116 - accuracy: 0.9983 - val_loss: 0.0286 - val_accuracy: 0.9596\n",
      "Epoch 15/15\n",
      "945/945 [==============================] - 2307s 2s/step - loss: 0.0071 - accuracy: 0.9996 - val_loss: 0.0263 - val_accuracy: 0.9634\n"
     ]
    }
   ],
   "source": [
    "es_callback = tf.keras.callbacks.EarlyStopping(monitor='val_loss', patience=3, restore_best_weights=True)\n",
    "\n",
    "history = model.fit(X_train, y_train, epochs=15, batch_size=16, validation_data=(X_val, y_val), callbacks=[es_callback])\n"
   ],
   "metadata": {
    "collapsed": false
   }
  },
  {
   "cell_type": "code",
   "execution_count": 488,
   "outputs": [
    {
     "data": {
      "text/plain": "{'loss': [0.7845688462257385,\n  0.6889155507087708,\n  0.5801008939743042,\n  0.37743616104125977,\n  0.22989071905612946,\n  0.15407560765743256,\n  0.11169424653053284,\n  0.08390671759843826,\n  0.06363310664892197,\n  0.04811995476484299,\n  0.03569976985454559,\n  0.025718774646520615,\n  0.017789868637919426,\n  0.011583736166357994,\n  0.007069962564855814],\n 'accuracy': [0.01184919849038124,\n  0.015763217583298683,\n  0.08959051966667175,\n  0.4795325994491577,\n  0.7299427390098572,\n  0.8250008225440979,\n  0.8710516691207886,\n  0.8999765515327454,\n  0.9228445887565613,\n  0.9434626698493958,\n  0.9613419771194458,\n  0.9784477949142456,\n  0.992744505405426,\n  0.9982790350914001,\n  0.9996283650398254],\n 'val_loss': [0.41373246908187866,\n  0.3780372142791748,\n  0.2844369411468506,\n  0.1772121787071228,\n  0.11974183470010757,\n  0.08946289122104645,\n  0.07184314727783203,\n  0.05967116728425026,\n  0.051097992807626724,\n  0.04447370395064354,\n  0.03927464783191681,\n  0.034859657287597656,\n  0.03151831403374672,\n  0.02855890989303589,\n  0.026256121695041656],\n 'val_accuracy': [0.009027286432683468,\n  0.018054572865366936,\n  0.24475114047527313,\n  0.6301511526107788,\n  0.7806834578514099,\n  0.8415664434432983,\n  0.875200092792511,\n  0.8977310657501221,\n  0.9160462617874146,\n  0.9296150803565979,\n  0.9398801326751709,\n  0.9483304023742676,\n  0.9552544355392456,\n  0.959591269493103,\n  0.9634162187576294]}"
     },
     "execution_count": 488,
     "metadata": {},
     "output_type": "execute_result"
    }
   ],
   "source": [
    "history.history"
   ],
   "metadata": {
    "collapsed": false
   }
  },
  {
   "cell_type": "markdown",
   "source": [
    "# Graph of the history"
   ],
   "metadata": {
    "collapsed": false
   }
  },
  {
   "cell_type": "code",
   "execution_count": 489,
   "outputs": [
    {
     "data": {
      "text/plain": "<Figure size 640x480 with 1 Axes>",
      "image/png": "[encoded data removed]"
     },
     "metadata": {},
     "output_type": "display_data"
    }
   ],
   "source": [
    "fig = plt.figure()\n",
    "plt.plot(history.history['loss'], color='blue', label='loss')\n",
    "plt.plot(history.history['val_loss'], color='green', label='val_loss')\n",
    "fig.suptitle('LOSS OF TRAIN AND VAL', fontsize=30)\n",
    "plt.legend(loc=\"upper left\")\n",
    "plt.show()"
   ],
   "metadata": {
    "collapsed": false
   }
  },
  {
   "cell_type": "code",
   "execution_count": 490,
   "outputs": [
    {
     "data": {
      "text/plain": "<Figure size 640x480 with 1 Axes>",
      "image/png": "[encoded data removed]"
     },
     "metadata": {},
     "output_type": "display_data"
    }
   ],
   "source": [
    "fig = plt.figure()\n",
    "plt.plot(history.history['accuracy'], color='blue', label='accuracy')\n",
    "plt.plot(history.history['val_accuracy'], color='green', label='val_accuracy')\n",
    "fig.suptitle('ACCURACY OF TRAIN AND VAL', fontsize=30)\n",
    "plt.legend(loc=\"upper left\")\n",
    "plt.show()"
   ],
   "metadata": {
    "collapsed": false
   }
  },
  {
   "cell_type": "markdown",
   "source": [
    "# Evaluate the model on the test set"
   ],
   "metadata": {
    "collapsed": false
   }
  },
  {
   "cell_type": "code",
   "execution_count": 492,
   "outputs": [
    {
     "name": "stdout",
     "output_type": "stream",
     "text": [
      "288/288 [==============================] - 679s 2s/step - loss: 0.0253 - accuracy: 0.9633\n",
      "Test loss: 0.0253\n",
      "Test accuracy: 0.9633\n"
     ]
    }
   ],
   "source": [
    "test_loss, test_acc = model.evaluate(y_test, X_test)\n",
    "print(f'Test loss: {test_loss:.4f}')\n",
    "print(f'Test accuracy: {test_acc:.4f}')\n"
   ],
   "metadata": {
    "collapsed": false
   }
  },
  {
   "cell_type": "markdown",
   "source": [
    "# Save Model"
   ],
   "metadata": {
    "collapsed": false
   }
  },
  {
   "cell_type": "code",
   "execution_count": 493,
   "outputs": [],
   "source": [
    "from tensorflow.keras.models import load_model"
   ],
   "metadata": {
    "collapsed": false
   }
  },
  {
   "cell_type": "code",
   "execution_count": 494,
   "outputs": [],
   "source": [
    "import os"
   ],
   "metadata": {
    "collapsed": false
   }
  },
  {
   "cell_type": "code",
   "execution_count": 495,
   "outputs": [],
   "source": [
    "model.save(os.path.join('Model','MovieRecommendation_model.h5'))"
   ],
   "metadata": {
    "collapsed": false
   }
  }
 ],
 "metadata": {
  "kernelspec": {
   "display_name": "Python 3",
   "language": "python",
   "name": "python3"
  },
  "language_info": {
   "codemirror_mode": {
    "name": "ipython",
    "version": 2
   },
   "file_extension": ".py",
   "mimetype": "text/x-python",
   "name": "python",
   "nbconvert_exporter": "python",
   "pygments_lexer": "ipython2",
   "version": "2.7.6"
  }
 },
 "nbformat": 4,
 "nbformat_minor": 0
}
